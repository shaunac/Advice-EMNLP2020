{
 "cells": [
  {
   "cell_type": "markdown",
   "metadata": {},
   "source": [
    "# Analyzing the segmentation results"
   ]
  },
  {
   "cell_type": "code",
   "execution_count": 1,
   "metadata": {},
   "outputs": [],
   "source": [
    "import os\n",
    "import numpy as np\n",
    "import pdb\n",
    "import matplotlib.pyplot as plt\n",
    "import seaborn as sns"
   ]
  },
  {
   "cell_type": "code",
   "execution_count": 2,
   "metadata": {},
   "outputs": [],
   "source": [
    "questions = {}\n",
    "answers = {}\n",
    "for root, dirs, files in os.walk(\"../../segments/\"):\n",
    "    for file in files:\n",
    "        if file.endswith(\".txt\") :\n",
    "            with open(os.path.join(root,file)) as f:\n",
    "                this_files_text = f.read().lower().replace('<br>', ' ')\n",
    "                this_files_text = this_files_text.replace('<br >', ' ')\n",
    "                if 'context' in file:\n",
    "                    questions[file.split('-')[0]] = this_files_text.split('\\n')\n",
    "                else:\n",
    "                    if answers.get(file.split('_')[0]):\n",
    "                        answers[file.split('_')[0]] += this_files_text\n",
    "                    else:\n",
    "                        answers[file.split('_')[0]] = this_files_text\n",
    "\n"
   ]
  },
  {
   "cell_type": "code",
   "execution_count": 3,
   "metadata": {},
   "outputs": [],
   "source": [
    "replies = {}\n",
    "import re\n",
    "for key in answers.keys():\n",
    "    replies[key] = {}\n",
    "    split = re.split('-----------[-]+', answers[key])\n",
    "\n",
    "    for reply in split:\n",
    "        if reply=='\\n':\n",
    "            continue\n",
    "        reply_num = reply.strip().split('\\n')[0]\n",
    "        replies[key][reply_num] = reply.strip().split('\\n')[1:]"
   ]
  },
  {
   "cell_type": "code",
   "execution_count": 4,
   "metadata": {},
   "outputs": [],
   "source": [
    "all_reply_segments = sum([[replies[rep_key][rep_num] for rep_num in replies[rep_key].keys()] for rep_key in replies.keys()], [])"
   ]
  },
  {
   "cell_type": "code",
   "execution_count": 5,
   "metadata": {},
   "outputs": [
    {
     "name": "stdout",
     "output_type": "stream",
     "text": [
      "0 parenthood :\n",
      "1 you will never love and hate something so much .\n",
      "2    i do n't think\n",
      "3 any one is really prepared for kids .\n",
      "4 there is n't an instruction manual\n",
      "5 that comes with your baby .\n",
      "6    i would say\n",
      "7 wanting a kid\n",
      "8 and having some type of plan\n",
      "9 to deal with said\n",
      "10 child is the most prepared you will ever be .\n",
      "11    my kids are the most rewarding , exhausting , terrible things in my life .\n",
      "12 i was not prepared for most of the things\n",
      "13 my kids put me through ,\n",
      "14 but even getting puked and shit on at 3 am is worth it .\n"
     ]
    }
   ],
   "source": [
    "for a,b in enumerate(all_reply_segments[0]):\n",
    "    print(a,b)"
   ]
  },
  {
   "cell_type": "code",
   "execution_count": 6,
   "metadata": {},
   "outputs": [
    {
     "data": {
      "text/plain": [
       "['parenthood', ':']"
      ]
     },
     "execution_count": 6,
     "metadata": {},
     "output_type": "execute_result"
    }
   ],
   "source": [
    "sum(all_reply_segments,[])[0].split()"
   ]
  },
  {
   "cell_type": "code",
   "execution_count": 7,
   "metadata": {},
   "outputs": [
    {
     "data": {
      "image/png": "[encoded data removed]",
      "text/plain": [
       "<Figure size 432x288 with 1 Axes>"
      ]
     },
     "metadata": {},
     "output_type": "display_data"
    }
   ],
   "source": [
    "segment_lengths=[len(a.split()) for a in sum(all_reply_segments,[])]\n",
    "sns.set_style(\"darkgrid\")\n",
    "\n",
    "fig = sns.distplot(segment_lengths, kde=False, hist_kws={'alpha':0.75})\n",
    "fig.set(xlabel='Length of EDU', ylabel='Frequency\"')\n",
    "sns.despine()\n",
    "fig.xaxis.grid(False)\n",
    "# plt.xticks([0,20,40,60,80,100])\n",
    "plt.savefig('figs/edu-lengths.png', dpi=600)"
   ]
  },
  {
   "cell_type": "code",
   "execution_count": 8,
   "metadata": {},
   "outputs": [],
   "source": [
    "def is_it_a_discourse_marker(text, pos, word):\n",
    "    if word in text[pos].split()[:2]:\n",
    "        return True\n",
    "    else:\n",
    "        return False\n",
    "        \n",
    "    \n",
    "\n",
    "though_positions_summed = sum([[(i*(100/len(rep))) for i,x in enumerate(rep) if is_it_a_discourse_marker(rep, i, 'though')] for rep in all_reply_segments], [])\n",
    "\n",
    "# though_positions_lens = sum([[len(rep) for i,x in enumerate(rep) if is_it_a_discourse_marker(rep, i, 'though')] for rep in all_reply_segments], [])\n",
    "# though_positions_lens"
   ]
  },
  {
   "cell_type": "code",
   "execution_count": 9,
   "metadata": {},
   "outputs": [
    {
     "data": {
      "text/plain": [
       "[63.63636363636364,\n",
       " 84.61538461538461,\n",
       " 81.25,\n",
       " 42.10526315789474,\n",
       " 93.75,\n",
       " 40.0,\n",
       " 0.0,\n",
       " 45.45454545454546,\n",
       " 45.45454545454546,\n",
       " 37.5,\n",
       " 50.0,\n",
       " 94.11764705882354,\n",
       " 17.647058823529413,\n",
       " 25.0,\n",
       " 45.45454545454546,\n",
       " 55.55555555555556,\n",
       " 85.71428571428572,\n",
       " 60.0,\n",
       " 63.15789473684211,\n",
       " 22.22222222222222,\n",
       " 92.3076923076923,\n",
       " 5.0,\n",
       " 75.0,\n",
       " 66.66666666666666,\n",
       " 70.0,\n",
       " 61.53846153846154,\n",
       " 61.53846153846154,\n",
       " 11.764705882352942,\n",
       " 20.0,\n",
       " 73.91304347826086,\n",
       " 14.285714285714286,\n",
       " 44.44444444444444,\n",
       " 93.75,\n",
       " 45.0,\n",
       " 62.5,\n",
       " 70.0,\n",
       " 75.0,\n",
       " 83.33333333333333,\n",
       " 46.66666666666667,\n",
       " 12.5,\n",
       " 77.77777777777777,\n",
       " 60.0,\n",
       " 75.0,\n",
       " 30.76923076923077,\n",
       " 41.1764705882353,\n",
       " 75.0,\n",
       " 45.0,\n",
       " 31.25,\n",
       " 95.23809523809524,\n",
       " 85.29411764705883,\n",
       " 16.666666666666668,\n",
       " 6.666666666666667,\n",
       " 70.37037037037037,\n",
       " 50.0,\n",
       " 85.71428571428572,\n",
       " 62.068965517241374,\n",
       " 92.5925925925926,\n",
       " 61.11111111111111,\n",
       " 68.18181818181819,\n",
       " 26.315789473684212,\n",
       " 9.090909090909092,\n",
       " 85.71428571428572,\n",
       " 28.571428571428573,\n",
       " 85.71428571428572]"
      ]
     },
     "execution_count": 9,
     "metadata": {},
     "output_type": "execute_result"
    }
   ],
   "source": [
    "though_positions_summed"
   ]
  },
  {
   "cell_type": "code",
   "execution_count": 10,
   "metadata": {},
   "outputs": [
    {
     "data": {
      "image/png": "[encoded data removed]",
      "text/plain": [
       "<Figure size 432x288 with 1 Axes>"
      ]
     },
     "metadata": {},
     "output_type": "display_data"
    }
   ],
   "source": [
    "sns.set_style(\"darkgrid\")\n",
    "\n",
    "fig = sns.distplot(though_positions_summed, kde=False, hist_kws={'alpha':0.75})\n",
    "fig.set(xlabel='Position in advice text', ylabel='Frequency of $though_{disc}$')\n",
    "sns.despine()\n",
    "fig.xaxis.grid(False)\n",
    "plt.xticks([0,20,40,60,80,100])\n",
    "plt.savefig('figs/edu-a-though-transparent.png', dpi=600, transparent=True)"
   ]
  },
  {
   "cell_type": "code",
   "execution_count": 11,
   "metadata": {},
   "outputs": [
    {
     "data": {
      "image/png": "[encoded data removed]",
      "text/plain": [
       "<Figure size 432x288 with 1 Axes>"
      ]
     },
     "metadata": {},
     "output_type": "display_data"
    }
   ],
   "source": [
    "since_positions_summed = sum([[(i*(100/len(rep))) for i,x in enumerate(rep) if is_it_a_discourse_marker(rep, i, 'since')] for rep in all_reply_segments], [])\n",
    "since_positions_summed\n",
    "\n",
    "sns.set_style(\"darkgrid\")\n",
    "\n",
    "fig = sns.distplot(since_positions_summed, kde=False, hist_kws={'alpha':0.75})\n",
    "fig.set(xlabel='Position in advice text', ylabel='Frequency of \"since\"')\n",
    "sns.despine()\n",
    "fig.xaxis.grid(False)"
   ]
  },
  {
   "cell_type": "code",
   "execution_count": 12,
   "metadata": {
    "scrolled": true
   },
   "outputs": [
    {
     "data": {
      "image/png": "[encoded data removed]",
      "text/plain": [
       "<Figure size 432x288 with 1 Axes>"
      ]
     },
     "metadata": {},
     "output_type": "display_data"
    }
   ],
   "source": [
    "if_positions_summed = sum([[(i*(100/len(rep))) for i,x in enumerate(rep) if is_it_a_discourse_marker(rep, i, 'if')] for rep in all_reply_segments], [])\n",
    "if_positions_summed\n",
    "\n",
    "sns.set_style(\"darkgrid\")\n",
    "\n",
    "fig = sns.distplot(if_positions_summed, kde=False, hist_kws={'alpha':0.75})\n",
    "fig.set(xlabel='Position in advice text', ylabel='Frequency of \"if\"')\n",
    "sns.despine()\n",
    "fig.xaxis.grid(False)"
   ]
  },
  {
   "cell_type": "markdown",
   "metadata": {},
   "source": [
    "# Analysing question discourse segments "
   ]
  },
  {
   "cell_type": "code",
   "execution_count": 13,
   "metadata": {},
   "outputs": [
    {
     "data": {
      "text/plain": [
       "(array([290., 134.,  32.,  10.,   5.,   1.,   1.,   1.,   0.,   2.]),\n",
       " array([  2. ,  30.8,  59.6,  88.4, 117.2, 146. , 174.8, 203.6, 232.4,\n",
       "        261.2, 290. ]),\n",
       " <a list of 10 Patch objects>)"
      ]
     },
     "execution_count": 13,
     "metadata": {},
     "output_type": "execute_result"
    },
    {
     "data": {
      "image/png": "[encoded data removed]",
      "text/plain": [
       "<Figure size 432x288 with 1 Axes>"
      ]
     },
     "metadata": {},
     "output_type": "display_data"
    }
   ],
   "source": [
    "num_of_segments = {id: len(questions[id]) for id in questions.keys()}\n",
    "\n",
    "plt.hist(num_of_segments.values())"
   ]
  },
  {
   "cell_type": "code",
   "execution_count": 14,
   "metadata": {},
   "outputs": [],
   "source": [
    "or_positions_summed = sum([[i*(100/len(questions[ques_key])) for i,x in enumerate(questions[ques_key]) if is_it_a_discourse_marker(questions[ques_key], i, 'or')] for ques_key in questions.keys()], [])"
   ]
  },
  {
   "cell_type": "code",
   "execution_count": 15,
   "metadata": {},
   "outputs": [
    {
     "data": {
      "text/plain": [
       "[11.682242990654206,\n",
       " 81.30841121495327,\n",
       " 32.352941176470594,\n",
       " 50.0,\n",
       " 42.85714285714286,\n",
       " 53.191489361702125,\n",
       " 85.32608695652173,\n",
       " 76.31578947368422,\n",
       " 18.51851851851852,\n",
       " 29.82456140350877,\n",
       " 33.33333333333333,\n",
       " 84.61538461538461,\n",
       " 1.7857142857142858,\n",
       " 92.85714285714286,\n",
       " 64.51612903225806,\n",
       " 67.74193548387096,\n",
       " 25.714285714285715,\n",
       " 51.64835164835165,\n",
       " 73.62637362637363,\n",
       " 92.30769230769232,\n",
       " 94.5945945945946,\n",
       " 34.09090909090909,\n",
       " 91.42857142857143,\n",
       " 50.0,\n",
       " 12.903225806451612,\n",
       " 32.8125,\n",
       " 39.0625,\n",
       " 59.45945945945946,\n",
       " 75.67567567567568,\n",
       " 27.5,\n",
       " 72.5,\n",
       " 85.0,\n",
       " 33.33333333333333,\n",
       " 87.5,\n",
       " 36.8421052631579,\n",
       " 9.090909090909092,\n",
       " 56.75675675675676,\n",
       " 91.89189189189189,\n",
       " 56.52173913043478,\n",
       " 94.20289855072464,\n",
       " 0.0,\n",
       " 89.6551724137931,\n",
       " 83.87096774193547,\n",
       " 33.333333333333336,\n",
       " 55.55555555555556,\n",
       " 93.33333333333334,\n",
       " 74.46808510638297,\n",
       " 76.59574468085106,\n",
       " 83.33333333333333,\n",
       " 33.333333333333336,\n",
       " 75.0,\n",
       " 67.5,\n",
       " 68.57142857142857,\n",
       " 77.14285714285714,\n",
       " 81.42857142857143,\n",
       " 91.42857142857143,\n",
       " 4.545454545454546,\n",
       " 72.72727272727273,\n",
       " 87.93103448275862,\n",
       " 26.896551724137932,\n",
       " 57.931034482758626,\n",
       " 98.96551724137932,\n",
       " 50.0,\n",
       " 61.53846153846154,\n",
       " 76.78571428571429,\n",
       " 34.78260869565217,\n",
       " 39.130434782608695,\n",
       " 87.17948717948718,\n",
       " 43.54838709677419,\n",
       " 66.12903225806451,\n",
       " 27.906976744186046,\n",
       " 66.66666666666666,\n",
       " 45.0,\n",
       " 47.5,\n",
       " 49.411764705882355,\n",
       " 55.294117647058826,\n",
       " 60.0,\n",
       " 84.21052631578948,\n",
       " 72.22222222222221,\n",
       " 92.0,\n",
       " 96.82539682539682,\n",
       " 11.811023622047244,\n",
       " 44.88188976377953,\n",
       " 91.66666666666667,\n",
       " 46.96969696969697,\n",
       " 82.6923076923077,\n",
       " 50.0,\n",
       " 14.285714285714286,\n",
       " 37.5,\n",
       " 75.0,\n",
       " 82.14285714285715,\n",
       " 83.33333333333334,\n",
       " 48.598130841121495,\n",
       " 91.58878504672897,\n",
       " 15.217391304347824,\n",
       " 17.391304347826086,\n",
       " 19.565217391304348,\n",
       " 60.714285714285715,\n",
       " 60.0,\n",
       " 47.05882352941177,\n",
       " 60.0,\n",
       " 30.555555555555554,\n",
       " 84.72222222222221,\n",
       " 95.83333333333333,\n",
       " 15.517241379310343,\n",
       " 18.96551724137931,\n",
       " 43.103448275862064,\n",
       " 96.55172413793103,\n",
       " 30.0,\n",
       " 52.631578947368425,\n",
       " 86.66666666666667,\n",
       " 75.0,\n",
       " 11.11111111111111,\n",
       " 6.896551724137931,\n",
       " 93.10344827586206,\n",
       " 71.42857142857143,\n",
       " 71.0,\n",
       " 25.49019607843137,\n",
       " 27.45098039215686,\n",
       " 58.8235294117647,\n",
       " 96.0,\n",
       " 19.48051948051948,\n",
       " 20.77922077922078,\n",
       " 87.01298701298701,\n",
       " 55.81395348837209,\n",
       " 57.69230769230769,\n",
       " 76.15384615384616,\n",
       " 83.07692307692308,\n",
       " 85.38461538461539,\n",
       " 88.0,\n",
       " 40.86021505376344,\n",
       " 59.13978494623655,\n",
       " 68.81720430107526,\n",
       " 90.32258064516128,\n",
       " 81.57894736842105,\n",
       " 7.6923076923076925,\n",
       " 64.28571428571429,\n",
       " 85.71428571428572,\n",
       " 78.18181818181817,\n",
       " 51.21951219512195,\n",
       " 94.28571428571429,\n",
       " 52.0,\n",
       " 44.82758620689655,\n",
       " 83.78378378378378,\n",
       " 90.90909090909092,\n",
       " 84.21052631578948,\n",
       " 73.07692307692308,\n",
       " 80.95238095238095,\n",
       " 95.23809523809524,\n",
       " 93.4131736526946,\n",
       " 22.22222222222222,\n",
       " 66.66666666666667,\n",
       " 39.285714285714285,\n",
       " 93.06930693069307,\n",
       " 93.75,\n",
       " 55.35714285714286,\n",
       " 92.85714285714286,\n",
       " 12.903225806451612,\n",
       " 77.77777777777777,\n",
       " 60.0,\n",
       " 82.14285714285715,\n",
       " 42.10526315789474,\n",
       " 36.36363636363636,\n",
       " 49.090909090909086,\n",
       " 28.0,\n",
       " 94.0,\n",
       " 47.05882352941177,\n",
       " 82.6086956521739,\n",
       " 72.22222222222221,\n",
       " 83.33333333333333,\n",
       " 91.66666666666666,\n",
       " 52.0,\n",
       " 82.92682926829268,\n",
       " 68.42105263157896,\n",
       " 88.23529411764707,\n",
       " 78.57142857142857,\n",
       " 82.14285714285715,\n",
       " 92.85714285714286,\n",
       " 77.41935483870967,\n",
       " 76.47058823529412,\n",
       " 17.741935483870968,\n",
       " 32.25806451612903,\n",
       " 80.64516129032258,\n",
       " 85.48387096774194,\n",
       " 50.00000000000001,\n",
       " 93.61702127659575,\n",
       " 83.33333333333333,\n",
       " 28.571428571428573,\n",
       " 2.197802197802198,\n",
       " 58.24175824175825,\n",
       " 90.10989010989012,\n",
       " 54.76190476190476,\n",
       " 27.77777777777778,\n",
       " 58.33333333333333,\n",
       " 33.333333333333336,\n",
       " 57.142857142857146,\n",
       " 52.631578947368425,\n",
       " 82.75862068965517,\n",
       " 42.22222222222222,\n",
       " 26.666666666666668,\n",
       " 82.05128205128206,\n",
       " 55.91397849462365,\n",
       " 65.59139784946237,\n",
       " 87.09677419354838,\n",
       " 89.39393939393939,\n",
       " 98.48484848484848,\n",
       " 85.9375,\n",
       " 27.272727272727273,\n",
       " 88.88888888888889,\n",
       " 62.22222222222223,\n",
       " 66.66666666666667,\n",
       " 57.77777777777778,\n",
       " 86.66666666666667]"
      ]
     },
     "execution_count": 15,
     "metadata": {},
     "output_type": "execute_result"
    }
   ],
   "source": [
    "or_positions_summed"
   ]
  },
  {
   "cell_type": "code",
   "execution_count": 16,
   "metadata": {},
   "outputs": [
    {
     "data": {
      "image/png": "[encoded data removed]",
      "text/plain": [
       "<Figure size 432x288 with 1 Axes>"
      ]
     },
     "metadata": {},
     "output_type": "display_data"
    }
   ],
   "source": [
    "import seaborn as sns\n",
    "sns.set_style(\"darkgrid\")\n",
    "\n",
    "fig = sns.distplot(or_positions_summed, kde=False, hist_kws={'alpha':0.75})\n",
    "fig.set(xlabel='Position in question text', ylabel='Frequency of $or_{disc}$')\n",
    "sns.despine()\n",
    "fig.xaxis.grid(False)\n",
    "plt.xticks([0,20,40,60,80,100])\n",
    "plt.savefig('figs/edu-q-or.png', dpi=600)"
   ]
  },
  {
   "cell_type": "markdown",
   "metadata": {},
   "source": [
    "# Comparing segments to annotations "
   ]
  },
  {
   "cell_type": "code",
   "execution_count": null,
   "metadata": {},
   "outputs": [],
   "source": []
  },
  {
   "cell_type": "code",
   "execution_count": null,
   "metadata": {},
   "outputs": [],
   "source": []
  },
  {
   "cell_type": "code",
   "execution_count": null,
   "metadata": {},
   "outputs": [],
   "source": []
  }
 ],
 "metadata": {
  "kernelspec": {
   "display_name": "Python 3",
   "language": "python",
   "name": "python3"
  },
  "language_info": {
   "codemirror_mode": {
    "name": "ipython",
    "version": 3
   },
   "file_extension": ".py",
   "mimetype": "text/x-python",
   "name": "python",
   "nbconvert_exporter": "python",
   "pygments_lexer": "ipython3",
   "version": "3.6.10"
  }
 },
 "nbformat": 4,
 "nbformat_minor": 2
}
